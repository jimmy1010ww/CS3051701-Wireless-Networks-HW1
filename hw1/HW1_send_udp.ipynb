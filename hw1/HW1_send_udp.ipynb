{
 "cells": [
  {
   "cell_type": "code",
   "execution_count": 5,
   "metadata": {},
   "outputs": [
    {
     "name": "stdout",
     "output_type": "stream",
     "text": [
      "UDP target IP: 127.0.0.1\n",
      "UDP target port: 5005\n",
      "message: B10915003:Hello World\n",
      "UDP target IP: 127.0.0.1\n",
      "UDP target port: 5005\n",
      "message: B10915003:Hello World\n",
      "UDP target IP: 127.0.0.1\n",
      "UDP target port: 5005\n",
      "message: B10915003:Hello World\n",
      "UDP target IP: 127.0.0.1\n",
      "UDP target port: 5005\n",
      "message: B10915003:Hello World\n",
      "UDP target IP: 127.0.0.1\n",
      "UDP target port: 5005\n",
      "message: B10915003:Hello World\n",
      "UDP target IP: 127.0.0.1\n",
      "UDP target port: 5005\n",
      "message: B10915003:Hello World\n",
      "UDP target IP: 127.0.0.1\n",
      "UDP target port: 5005\n",
      "message: B10915003:Hello World\n",
      "UDP target IP: 127.0.0.1\n",
      "UDP target port: 5005\n",
      "message: B10915003:Hello World\n",
      "UDP target IP: 127.0.0.1\n",
      "UDP target port: 5005\n",
      "message: B10915003:Hello World\n",
      "UDP target IP: 127.0.0.1\n",
      "UDP target port: 5005\n",
      "message: B10915003:Hello World\n"
     ]
    }
   ],
   "source": [
    "import socket\n",
    "import time\n",
    "\n",
    "#dest ip\n",
    "DEST_IP = \"127.0.0.1\"\n",
    "#port number\n",
    "PORT = 5005\n",
    "#Student ID\n",
    "STUID = \"B10915003:\"\n",
    "#Send Times\n",
    "SEND_TIMES = 10\n",
    "\n",
    "#Create a socket\n",
    "def CreateSocket():\n",
    "    sock = socket.socket(socket.AF_INET, socket.SOCK_DGRAM) # UDP\n",
    "    return sock\n",
    "\n",
    "#Send a message\n",
    "def SendData(_data, _sock):\n",
    "    _data = STUID + _data\n",
    "    #create a socket\n",
    "    _sock = socket.socket(socket.AF_INET, socket.SOCK_DGRAM)\n",
    "\n",
    "    #send data\n",
    "    sock.sendto(bytes(_data, \"utf-8\"), (DEST_IP, PORT))\n",
    "\n",
    "    print(\"UDP target IP:\", DEST_IP)\n",
    "    print(\"UDP target port:\", PORT)\n",
    "    print(\"message:\", _data)\n",
    "\n",
    "\n",
    "#main\n",
    "if __name__ == \"__main__\":\n",
    "    #create a socket\n",
    "    sock = CreateSocket()\n",
    "\n",
    "    for _ in range(SEND_TIMES):\n",
    "        SendData(\"Hello World\", sock)\n",
    "        time.sleep(1)\n",
    "\n",
    "    #close socket\n",
    "    sock.close()\n",
    "        \n"
   ]
  }
 ],
 "metadata": {
  "kernelspec": {
   "display_name": "Python 3.9.13 ('wireless')",
   "language": "python",
   "name": "python3"
  },
  "language_info": {
   "codemirror_mode": {
    "name": "ipython",
    "version": 3
   },
   "file_extension": ".py",
   "mimetype": "text/x-python",
   "name": "python",
   "nbconvert_exporter": "python",
   "pygments_lexer": "ipython3",
   "version": "3.9.13"
  },
  "orig_nbformat": 4,
  "vscode": {
   "interpreter": {
    "hash": "ba43f133d28e272780c0f321d0784ee6cda7ff0e41d83ccb6143b298786d66cd"
   }
  }
 },
 "nbformat": 4,
 "nbformat_minor": 2
}
